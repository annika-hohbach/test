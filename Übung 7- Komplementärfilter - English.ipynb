{
 "cells": [
  {
   "cell_type": "markdown",
   "id": "e0ece9c0",
   "metadata": {},
   "source": [
    "## Exercise 7: Complementary filter (Python) - English"
   ]
  },
  {
   "cell_type": "markdown",
   "id": "d66c347a",
   "metadata": {},
   "source": [
    "This python script serves as a template for the completion of Exercise 7. "
   ]
  },
  {
   "cell_type": "code",
   "execution_count": 7,
   "id": "2f1b8e4c",
   "metadata": {},
   "outputs": [],
   "source": [
    "# import necessary libraries\n",
    "import scipy.io as sio\n",
    "import numpy as np\n",
    "import matplotlib.pyplot as plt\n",
    "import math"
   ]
  },
  {
   "cell_type": "markdown",
   "id": "9388c6cd",
   "metadata": {},
   "source": [
    "The follwoing piece of code serves as the main implementation of the complementary filter. All other functions will be called here, but are implemented in the assigned cells. Make sure to run the function cell before calling it. "
   ]
  },
  {
   "cell_type": "code",
   "execution_count": 8,
   "id": "6076256e",
   "metadata": {},
   "outputs": [],
   "source": [
    "# complementary filter\n",
    "\n",
    "# loads the data\n",
    "# Accelerometer, Magnetometer und Gyroscope for 3 Axis IMU + time +\n",
    "# computed euler angles with KF for comparison\n",
    "file = sio.loadmat('lrlaborEX7.mat')\n",
    "Accelerometer = file['Accelerometer']\n",
    "Gyroscope = file['Gyroscope']\n",
    "Magnetometer = file['Magnetometer']\n",
    "euler = file['euler']\n",
    "time = file['time']\n",
    "\n",
    "# Plot the raw measurements\n",
    "\n",
    "\n",
    "# Implement the complimentary filter\n",
    "initSamples = 0;                        # TODO Task 1c)\n",
    "beta =  1;                              # TODO Task 1d)\n",
    "\n",
    "rpy = np.zeros((len(time),3));\n",
    "\n",
    "gyro_bias = 0                    # TODO: Task 1c) determine gyro bias\n",
    "rpy[initSamples,0] = 0           # TODO: Task 1d) determine initial state of filter\n",
    "rpy[initSamples,1] = 0 \n",
    "rpy[initSamples,2] = 0 \n",
    "\n",
    "\n",
    "for i in range(initSamples+1,len(time)):\n",
    "    \n",
    "    # TODO: Update the filter\n",
    "   \n",
    "    \n",
    "    # We want the angles to be between pi and -pi\n",
    "    if(rpy[i,2] > np.pi):\n",
    "        rpy[i,2] = -2*np.pi + rpy[i,2]\n",
    "    elif (rpy[i,2] < -np.pi):\n",
    "        rpy[i,2] = 2*np.pi + rpy[i,2]\n",
    "\n"
   ]
  },
  {
   "cell_type": "markdown",
   "id": "df70a59b",
   "metadata": {},
   "source": [
    "Use the following cell to plot the required data."
   ]
  },
  {
   "cell_type": "code",
   "execution_count": 9,
   "id": "fc64dca3",
   "metadata": {},
   "outputs": [],
   "source": [
    "# Plot the data\n"
   ]
  },
  {
   "cell_type": "markdown",
   "id": "d90ce448",
   "metadata": {},
   "source": [
    "The following function must be used to implement the gyroscope-filter. Call the function in the complementary filter cell."
   ]
  },
  {
   "cell_type": "code",
   "execution_count": 10,
   "id": "10369676",
   "metadata": {},
   "outputs": [],
   "source": [
    "# gyroscope update\n",
    "def updateGyro(gyro, rpy, dt):\n",
    "    # UPDATEACC Function for the update step of the Gyroscope\n",
    "    # Input: The gyro raw measurement + time + current angles \n",
    "    # Returns the new euler angles\n",
    "\n",
    "    return rpy_gyro"
   ]
  },
  {
   "cell_type": "markdown",
   "id": "ee1f984a",
   "metadata": {},
   "source": [
    "The next function must be completed to be used to update the accelerometer. "
   ]
  },
  {
   "cell_type": "code",
   "execution_count": 11,
   "id": "ffdc8efb",
   "metadata": {},
   "outputs": [],
   "source": [
    "# accelerometer update\n",
    "def updateAcc(acc):\n",
    "    # UPDATEACC Function for the update step of the Accelerometer\n",
    "    # Input: Acc raw measurement \n",
    "    # Returns the euler angles\n",
    "\n",
    "    return rpy_acc "
   ]
  },
  {
   "cell_type": "markdown",
   "id": "bd9cb770",
   "metadata": {},
   "source": [
    "Finally, the magnetometer update function is completed here."
   ]
  },
  {
   "cell_type": "code",
   "execution_count": 12,
   "id": "6a30d49b",
   "metadata": {},
   "outputs": [],
   "source": [
    "# magnetometer update\n",
    "def updateMag(mag, rpy):\n",
    "    # UPDATEACC Function for the update step of the Magnetometer\n",
    "    # Input: The mag raw measurement + current angles\n",
    "    # Returns yaw\n",
    "    # TODO remember to rotate mag data :)\n",
    "\n",
    "    return yaw_mag "
   ]
  },
  {
   "cell_type": "markdown",
   "id": "0dfb8c8f",
   "metadata": {},
   "source": [
    "Here are some cells to write notes or answer the theoretical questions :)<br>\n",
    "(Double click on the theoretical questions cell to edit it)"
   ]
  },
  {
   "cell_type": "markdown",
   "id": "3def863a",
   "metadata": {},
   "source": [
    "Theoretical questions: <br>\n",
    "1a) Was the data recorded in flight or not?  <br>\n",
    "1b) With which data rate (in Hz) should the data presumably be recorded, which average data rate was achieved? <br>\n",
    "    Do these outliers cause problems in the filter calculation? Why or why not? <br>\n",
    "    Bonus: What could be the reason for the outlier?<br>\n",
    "1c) How many measurements are useful for gyro bias?<br>\n",
    "    What do you notice when comparing the calculated Euler angles to the plotted Euler angles?  <br>\n",
    "1d) How does the filter change with different values of β, what value did you choose and why?"
   ]
  },
  {
   "cell_type": "code",
   "execution_count": null,
   "id": "bb9b303d",
   "metadata": {},
   "outputs": [],
   "source": []
  }
 ],
 "metadata": {
  "kernelspec": {
   "display_name": "Python 3 (ipykernel)",
   "language": "python",
   "name": "python3"
  },
  "language_info": {
   "codemirror_mode": {
    "name": "ipython",
    "version": 3
   },
   "file_extension": ".py",
   "mimetype": "text/x-python",
   "name": "python",
   "nbconvert_exporter": "python",
   "pygments_lexer": "ipython3",
   "version": "3.9.12"
  }
 },
 "nbformat": 4,
 "nbformat_minor": 5
}
