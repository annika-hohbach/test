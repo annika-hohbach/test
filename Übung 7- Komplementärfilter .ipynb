{
 "cells": [
  {
   "cell_type": "markdown",
   "id": "b14ee038",
   "metadata": {},
   "source": [
    "## Übung 7: Komplementärfilter (Python)"
   ]
  },
  {
   "cell_type": "markdown",
   "id": "769d5168",
   "metadata": {},
   "source": [
    "Dieses Python-Skript dient als Vorlage für die Bearbeitung von Übung 7. "
   ]
  },
  {
   "cell_type": "code",
   "execution_count": 10,
   "id": "bd9e665b",
   "metadata": {},
   "outputs": [],
   "source": [
    "# import necessary libraries\n",
    "import scipy.io as sio\n",
    "import numpy as np\n",
    "import matplotlib.pyplot as plt\n",
    "import math"
   ]
  },
  {
   "cell_type": "markdown",
   "id": "d798de01",
   "metadata": {},
   "source": [
    "Das folgende Codestück dient als Hauptimplementierung des Komplementärfilters. Alle anderen Funktionen werden hier aufgerufen, müssen aber in den zugewiesenen Zellen implementiert werden. Die Funktionszellen müssen ausgeführt werden, bevor sie aufgeruft werden können. "
   ]
  },
  {
   "cell_type": "code",
   "execution_count": 11,
   "id": "6076256e",
   "metadata": {},
   "outputs": [],
   "source": [
    "# complementary filter\n",
    "\n",
    "# loads the data\n",
    "# Accelerometer, Magnetometer und Gyroscope for 3 Axis IMU + time +\n",
    "# computed euler angles with KF for comparison\n",
    "file = sio.loadmat('lrlaborEX7.mat')\n",
    "Accelerometer = file['Accelerometer']\n",
    "Gyroscope = file['Gyroscope']\n",
    "Magnetometer = file['Magnetometer']\n",
    "euler = file['euler']\n",
    "time = file['time']\n",
    "\n",
    "# Plot the raw measurements\n",
    "\n",
    "\n",
    "# Implement the complimentary filter\n",
    "initSamples = 0;                        # TODO Task 1c)\n",
    "beta =  1;                              # TODO Task 1d)\n",
    "\n",
    "rpy = np.zeros((len(time),3));\n",
    "\n",
    "gyro_bias = 0                    # TODO: Task 1c) determine gyro bias\n",
    "rpy[initSamples,0] = 0           # TODO: Task 1d) determine initial state of filter\n",
    "rpy[initSamples,1] = 0 \n",
    "rpy[initSamples,2] = 0 \n",
    "\n",
    "\n",
    "for i in range(initSamples+1,len(time)):\n",
    "    \n",
    "    # TODO: Update the filter\n",
    "   \n",
    "    \n",
    "    # We want the angles to be between pi and -pi\n",
    "    if(rpy[i,2] > np.pi):\n",
    "        rpy[i,2] = -2*np.pi + rpy[i,2]\n",
    "    elif (rpy[i,2] < -np.pi):\n",
    "        rpy[i,2] = 2*np.pi + rpy[i,2]\n",
    "\n"
   ]
  },
  {
   "cell_type": "markdown",
   "id": "2771d2f0",
   "metadata": {},
   "source": [
    "Die folgende Zelle soll verwendet werden um die erforderlichen Daten darzustellen."
   ]
  },
  {
   "cell_type": "code",
   "execution_count": 12,
   "id": "fc64dca3",
   "metadata": {},
   "outputs": [],
   "source": [
    "# Plot the data\n"
   ]
  },
  {
   "cell_type": "markdown",
   "id": "8dbb1e9c",
   "metadata": {},
   "source": [
    "Zur Implementierung des Gyroskop-Filters muss die folgende Funktion verwendet werden. Die Funktion soll dann in der Komplementärfilterzelle aufgeruft werden."
   ]
  },
  {
   "cell_type": "code",
   "execution_count": 13,
   "id": "10369676",
   "metadata": {},
   "outputs": [],
   "source": [
    "# gyroscope update\n",
    "def updateGyro(gyro, rpy, dt):\n",
    "    # UPDATEACC Function for the update step of the Gyroscope\n",
    "    # Input: The gyro raw measurement + time + current angles \n",
    "    # Returns the new euler angles\n",
    "\n",
    "    return rpy_gyro"
   ]
  },
  {
   "cell_type": "markdown",
   "id": "1083b6b5",
   "metadata": {},
   "source": [
    "Vervollständige die nächste Funktion, damit der Beschleunigungsmesser aktualisiert wird."
   ]
  },
  {
   "cell_type": "code",
   "execution_count": 14,
   "id": "ffdc8efb",
   "metadata": {},
   "outputs": [],
   "source": [
    "# accelerometer update\n",
    "def updateAcc(acc):\n",
    "    # UPDATEACC Function for the update step of the Accelerometer\n",
    "    # Input: Acc raw measurement \n",
    "    # Returns the euler angles\n",
    "\n",
    "    return rpy_acc "
   ]
  },
  {
   "cell_type": "markdown",
   "id": "bfc0560c",
   "metadata": {},
   "source": [
    "Schließlich wird hier die Funktion zur Aktualisierung des Magnetometers abgeschlossen."
   ]
  },
  {
   "cell_type": "code",
   "execution_count": 15,
   "id": "6a30d49b",
   "metadata": {},
   "outputs": [],
   "source": [
    "# magnetometer update\n",
    "def updateMag(mag, rpy):\n",
    "    # UPDATEACC Function for the update step of the Magnetometer\n",
    "    # Input: The mag raw measurement + current angles\n",
    "    # Returns yaw\n",
    "    # TODO remember to rotate mag data :)\n",
    "\n",
    "    return yaw_mag "
   ]
  },
  {
   "cell_type": "markdown",
   "id": "b8468fda",
   "metadata": {},
   "source": [
    "Hier sind einige Zellen, um Notizen zu schreiben oder die theoretischen Fragen zu beantworten :)<br>(Doppelklicke auf die Zelle mit den theoretischen Fragen, um sie zu bearbeiten)"
   ]
  },
  {
   "cell_type": "markdown",
   "id": "9cd1cc39",
   "metadata": {},
   "source": [
    "Theoretische Fragen:<br>\n",
    "1a) Wurden die Daten im Flug aufgezeichnet oder nicht? <br>\n",
    "1b) Mit welcher Datenrate (in Hz) sollten die Daten vermutlich aufgezeichnet werden, welche durchschnittliche Datenrate wurde erzielt? <br>\n",
    "    Erzeugen diese Outlier Probleme bei der Filter-Berechnung? Wieso bzw. Wieso nicht? <br>\n",
    "    Bonus: Was könnte der Grund für die Outlier sein?<br>\n",
    "1c) Wie viele Messungen sind für den Gyro-bias sinnvoll?<br>\n",
    "    Was fällt dir auf beim Vergleich der berechneten Euler-Winkel mit den aufgezeichneten Euler-Winkeln? <br>\n",
    "1d) Wie ändert sich der Filter bei unterschiedlichen Werten von β, welchen Wert hast du gewählt und wieso?"
   ]
  },
  {
   "cell_type": "code",
   "execution_count": null,
   "id": "e6e55e62",
   "metadata": {},
   "outputs": [],
   "source": []
  }
 ],
 "metadata": {
  "kernelspec": {
   "display_name": "Python 3 (ipykernel)",
   "language": "python",
   "name": "python3"
  },
  "language_info": {
   "codemirror_mode": {
    "name": "ipython",
    "version": 3
   },
   "file_extension": ".py",
   "mimetype": "text/x-python",
   "name": "python",
   "nbconvert_exporter": "python",
   "pygments_lexer": "ipython3",
   "version": "3.9.12"
  }
 },
 "nbformat": 4,
 "nbformat_minor": 5
}
